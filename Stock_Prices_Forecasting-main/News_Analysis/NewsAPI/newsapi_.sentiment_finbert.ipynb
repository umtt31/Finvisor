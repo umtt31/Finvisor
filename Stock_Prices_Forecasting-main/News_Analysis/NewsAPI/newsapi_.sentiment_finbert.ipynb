{
 "cells": [
  {
   "cell_type": "code",
   "execution_count": null,
   "metadata": {},
   "outputs": [
    {
     "name": "stderr",
     "output_type": "stream",
     "text": [
      "Device set to use cpu\n"
     ]
    },
    {
     "name": "stdout",
     "output_type": "stream",
     "text": [
      "                                               title  \\\n",
      "0  Is Taiwan Semiconductor Manufacturing Company ...   \n",
      "\n",
      "                                            keywords sentiment_score  \n",
      "0  [tech stocks, tech stock, nyse tsm, taiwan sem...         neutral  \n"
     ]
    }
   ],
   "source": [
    "import requests\n",
    "import pandas as pd\n",
    "from keybert import KeyBERT\n",
    "from finbert_embedding.embedding import FinbertEmbedding\n",
    "from sentence_transformers import SentenceTransformer\n",
    "\n",
    "# Initialize models\n",
    "kw_model = KeyBERT(\"all-MiniLM-L6-v2\")  # Model for keyword extraction\n",
    "finbert = FinbertEmbedding()  # Model for sentiment analysis\n",
    "\n",
    "# Your NewsAPI key\n",
    "NEWS_API_KEY = \"-\"\n",
    "NASDAQ_KEYWORDS = [\"Nasdaq\", \"tech stocks\", \"NDX\", \"Apple\", \"Microsoft\", \"Google\", \"Amazon\", \"Tesla\"]\n",
    "\n",
    "\n",
    "\n",
    "\n",
    "def fetch_news():\n",
    "    \"\"\"Fetches latest financial news from NewsAPI.\"\"\"\n",
    "    url = f\"https://newsapi.org/v2/everything?q=stock market&language=en&apiKey={NEWS_API_KEY}\"\n",
    "    response = requests.get(url)\n",
    "    data = response.json()\n",
    "    return data.get(\"articles\", [])\n",
    "\n",
    "def extract_keywords(text):\n",
    "    \"\"\"Extracts keywords from the news content.\"\"\"\n",
    "    return kw_model.extract_keywords(text, keyphrase_ngram_range=(1, 2), stop_words='english', top_n=5)\n",
    "\n",
    "def is_related_to_ndx(keywords):\n",
    "    \"\"\"Checks if extracted keywords match Nasdaq-related terms.\"\"\"\n",
    "    return any(keyword in NASDAQ_KEYWORDS for keyword, _ in keywords)\n",
    "\n",
    "from transformers import pipeline\n",
    "\n",
    "# Load FinBERT sentiment analysis model\n",
    "sentiment_pipeline = pipeline(\"text-classification\", model=\"ProsusAI/finbert\")\n",
    "\n",
    "def analyze_sentiment(text):\n",
    "    \"\"\"Performs sentiment analysis using Hugging Face's FinBERT model.\"\"\"\n",
    "    result = sentiment_pipeline(text)[0]\n",
    "    return result['label']  # Returns 'positive', 'negative', or 'neutral'\n",
    "\n",
    "\n",
    "def main():\n",
    "    news_data = fetch_news()\n",
    "    filtered_news = []\n",
    "\n",
    "    for article in news_data:\n",
    "        title = article[\"title\"]\n",
    "        description = article.get(\"description\", \"\")\n",
    "        content = article.get(\"content\", \"\")\n",
    "\n",
    "        # Combine title and content for better keyword extraction\n",
    "        full_text = f\"{title}. {description} {content}\"\n",
    "        keywords = extract_keywords(full_text)\n",
    "\n",
    "        # Check if news is related to Nasdaq-100\n",
    "        if is_related_to_ndx(keywords):\n",
    "            sentiment_score = analyze_sentiment(full_text)\n",
    "            filtered_news.append({\n",
    "                \"title\": title,\n",
    "                \"keywords\": [k[0] for k in keywords],\n",
    "                \"sentiment_score\": sentiment_score\n",
    "            })\n",
    "\n",
    "    # Convert to DataFrame and save\n",
    "    df = pd.DataFrame(filtered_news)\n",
    "    df.to_csv(\"filtered_news_ndx.csv\", index=False)\n",
    "    print(df)\n",
    "\n",
    "if __name__ == \"__main__\":\n",
    "    main()\n"
   ]
  }
 ],
 "metadata": {
  "kernelspec": {
   "display_name": "Python 3",
   "language": "python",
   "name": "python3"
  },
  "language_info": {
   "codemirror_mode": {
    "name": "ipython",
    "version": 3
   },
   "file_extension": ".py",
   "mimetype": "text/x-python",
   "name": "python",
   "nbconvert_exporter": "python",
   "pygments_lexer": "ipython3",
   "version": "3.11.9"
  }
 },
 "nbformat": 4,
 "nbformat_minor": 2
}
