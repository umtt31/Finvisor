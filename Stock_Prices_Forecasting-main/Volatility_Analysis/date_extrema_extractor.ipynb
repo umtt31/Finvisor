{
 "cells": [
  {
   "cell_type": "code",
   "execution_count": 5,
   "metadata": {},
   "outputs": [],
   "source": [
    "import yfinance as yf\n",
    "import pandas as pd\n",
    "import matplotlib.pyplot as plt\n",
    "import numpy as np\n",
    "from scipy.signal import argrelextrema"
   ]
  },
  {
   "cell_type": "code",
   "execution_count": 6,
   "metadata": {},
   "outputs": [],
   "source": [
    "def get_stock_data(ticker,start_date='2014-01-29', interval='1d', period='2y'):\n",
    "    \"\"\"\n",
    "    Fetch historical stock data.\n",
    "        ticker: name of the fund\n",
    "        interval: time interval for fetching data ('1d', '1h', '1m', etc.)\n",
    "        period: period to fetch data for ('1d', '5d', '1mo', '3mo', '6mo', '1y', '2y', '5y', '10y', 'ytd', 'max')\n",
    "    \"\"\"\n",
    "    stock = yf.Ticker(ticker)\n",
    "    data = stock.history(start=start_date, interval=interval, period=period)\n",
    "    if not isinstance(data, pd.DataFrame) or data.empty:\n",
    "        raise ValueError(f\"No valid data found for ticker {ticker}.\")\n",
    "    return data\n"
   ]
  },
  {
   "cell_type": "code",
   "execution_count": 7,
   "metadata": {},
   "outputs": [],
   "source": [
    "def find_extrema(data, column='Close', order=5):\n",
    "    \"\"\"\n",
    "    Find local and global extrema of stock prices.\n",
    "    \"\"\"\n",
    "    prices = data[column]\n",
    "    \n",
    "    # Local minima and maxima using argrelextrema\n",
    "    local_maxima = argrelextrema(prices.values, np.greater, order=order)[0]\n",
    "    local_minima = argrelextrema(prices.values, np.less, order=order)[0]\n",
    "\n",
    "    # Global extrema (max and min)\n",
    "    global_max = prices.idxmax()  # Date of global maximum\n",
    "    global_min = prices.idxmin()  # Date of global minimum\n",
    "\n",
    "    # Return results with corresponding dates and values\n",
    "    return {\n",
    "        'local_maxima': data.iloc[local_maxima],\n",
    "        'local_minima': data.iloc[local_minima],\n",
    "        'global_max': (global_max, prices[global_max]),\n",
    "        'global_min': (global_min, prices[global_min])\n",
    "    }"
   ]
  },
  {
   "cell_type": "code",
   "execution_count": 8,
   "metadata": {},
   "outputs": [],
   "source": [
    "import os\n",
    "\n",
    "\n",
    "def analyze_extract_stocks(tickers, interval='1d', period='5y', order=5,start_date='2012-06-30'):\n",
    "    extrema_data = []\n",
    "    for ticker in tickers:\n",
    "        print(f\"Fetching data for {ticker}...\")\n",
    "        try:\n",
    "            data = get_stock_data(ticker, interval=interval, period=period, start_date=start_date)\n",
    "            data.reset_index(inplace=True)  # reset index to access 'Date' as a column\n",
    "            print(f\"Data for {ticker} fetched successfully. Columns: {data.columns.tolist()}\")\n",
    "            \n",
    "            data = data[['Date', 'Close']]\n",
    "            data.columns = ['date', 'price']\n",
    "            \n",
    "            extrema = find_extrema(data, column='price', order=order)\n",
    "            extrema_data.extend([{\n",
    "                'date': row['date'], 'type': 'local_minima', 'ticker': ticker, 'price': row['price']\n",
    "            } for _, row in extrema['local_minima'].iterrows()])\n",
    "            extrema_data.extend([{\n",
    "                'date': row['date'], 'type': 'local_maxima', 'ticker': ticker, 'price': row['price']\n",
    "            } for _, row in extrema['local_maxima'].iterrows()])\n",
    "\n",
    "            global_max = data.loc[data['price'].idxmax()]\n",
    "            global_min = data.loc[data['price'].idxmin()]\n",
    "            extrema_data.append({\n",
    "                'date': global_max['date'], 'type': 'global_max', 'ticker': ticker, 'price': global_max['price']\n",
    "            })\n",
    "            extrema_data.append({\n",
    "                'date': global_min['date'], 'type': 'global_min', 'ticker': ticker, 'price': global_min['price']\n",
    "            })\n",
    "\n",
    "        except Exception as e:\n",
    "            print(f\"Error fetching data for {ticker}: {e}\")\n",
    "\n",
    "    # Convert to DataFrame and save to CSV\n",
    "    if extrema_data:\n",
    "        extrema_df = pd.DataFrame(extrema_data)\n",
    "        base_filename = 'extrema_dates'\n",
    "        extension = '.csv'\n",
    "        filename = base_filename + extension\n",
    "        counter = 1\n",
    "        \n",
    "        while os.path.exists(filename):\n",
    "            filename = f\"{base_filename}{counter}{extension}\"\n",
    "            counter += 1\n",
    "        \n",
    "        extrema_df.to_csv(filename, index=False)\n",
    "        print(f\"Extrema data saved to '{filename}'.\")\n",
    "    else:\n",
    "        print(\"No extrema data to save.\")"
   ]
  },
  {
   "cell_type": "code",
   "execution_count": 12,
   "metadata": {},
   "outputs": [
    {
     "name": "stdout",
     "output_type": "stream",
     "text": [
      "Fetching data for PYPL...\n",
      "Data for PYPL fetched successfully. Columns: ['Date', 'Open', 'High', 'Low', 'Close', 'Volume', 'Dividends', 'Stock Splits']\n",
      "Extrema data saved to 'extrema_dates3.csv'.\n"
     ]
    }
   ],
   "source": [
    "tickers = ['AAPL', 'MSFT', 'GOOGL', 'TSLA', 'NVDA', 'AMD', 'AMZN', 'NFLX', 'INTC', 'XOM', 'CVX', 'OXY', 'MRNA', 'PFE', 'BIIB', 'GME', 'AMC', 'BB', 'PLUG', 'PLTR', 'ROKU', 'ZM', 'SQ', 'PYPL', 'UBER', 'LYFT', 'T', 'VZ', 'TMUS', 'S', 'TM', 'F', 'GM', 'NIO', 'LI', 'XPEV', 'PBM', 'SRM', 'NTRP', 'ENTO', 'CRKN', 'JZXN', 'ABP']\n",
    "ticker3=['PYPL']\n",
    "analyze_extract_stocks(ticker3,interval='1d', period='5y', order=5,start_date='2015-06-01')\n",
    "\n"
   ]
  },
  {
   "cell_type": "code",
   "execution_count": 10,
   "metadata": {},
   "outputs": [
    {
     "name": "stdout",
     "output_type": "stream",
     "text": [
      "Fetching data for ^IXIC...\n",
      "Data for ^IXIC fetched successfully. Columns: ['Date', 'Open', 'High', 'Low', 'Close', 'Volume', 'Dividends', 'Stock Splits']\n",
      "Extrema data saved to 'extrema_dates4.csv'.\n"
     ]
    }
   ],
   "source": [
    "ticker2=['^IXIC']\n",
    "analyze_extract_stocks(ticker2)"
   ]
  }
 ],
 "metadata": {
  "kernelspec": {
   "display_name": "Python 3",
   "language": "python",
   "name": "python3"
  },
  "language_info": {
   "codemirror_mode": {
    "name": "ipython",
    "version": 3
   },
   "file_extension": ".py",
   "mimetype": "text/x-python",
   "name": "python",
   "nbconvert_exporter": "python",
   "pygments_lexer": "ipython3",
   "version": "3.11.9"
  }
 },
 "nbformat": 4,
 "nbformat_minor": 2
}
